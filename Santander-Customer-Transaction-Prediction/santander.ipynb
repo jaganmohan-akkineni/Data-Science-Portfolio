{
 "cells": [
  {
   "cell_type": "code",
   "execution_count": 1,
   "metadata": {},
   "outputs": [],
   "source": [
    "import pandas as pd\n",
    "import os\n",
    "from sklearn.model_selection import train_test_split\n",
    "from sklearn.metrics import auc, roc_curve, roc_auc_score\n",
    "\n",
    "train = pd.read_csv('train.csv')\n",
    "test = pd.read_csv('test.csv')\n",
    "\n",
    "train.head()\n",
    "\n",
    "\n",
    "target = train['target']\n",
    "\n",
    "train_input = train.drop(columns = ['ID_code', 'target'])\n",
    "test_input = test.drop(columns = ['ID_code'])\n",
    "\n",
    "X_train, X_test, Y_train, Y_test = train_test_split(train_input, target, test_size = 0.3, random_state=2019)\n"
   ]
  },
  {
   "cell_type": "markdown",
   "metadata": {},
   "source": [
    "# Logistic Regression"
   ]
  },
  {
   "cell_type": "code",
   "execution_count": 52,
   "metadata": {
    "collapsed": true
   },
   "outputs": [
    {
     "name": "stderr",
     "output_type": "stream",
     "text": [
      "/anaconda3/lib/python3.6/site-packages/sklearn/linear_model/logistic.py:433: FutureWarning: Default solver will be changed to 'lbfgs' in 0.22. Specify a solver to silence this warning.\n",
      "  FutureWarning)\n"
     ]
    },
    {
     "data": {
      "text/plain": [
       "LogisticRegression(C=1.0, class_weight='balanced', dual=False,\n",
       "          fit_intercept=True, intercept_scaling=1, max_iter=100,\n",
       "          multi_class='warn', n_jobs=None, penalty='l2', random_state=None,\n",
       "          solver='warn', tol=0.0001, verbose=0, warm_start=False)"
      ]
     },
     "execution_count": 52,
     "metadata": {},
     "output_type": "execute_result"
    }
   ],
   "source": [
    "from sklearn.linear_model import LogisticRegression\n",
    "\n",
    "logreg = LogisticRegression(class_weight = 'balanced')\n",
    "\n",
    "logreg.fit(X_train, Y_train)"
   ]
  },
  {
   "cell_type": "code",
   "execution_count": 53,
   "metadata": {
    "collapsed": true
   },
   "outputs": [],
   "source": [
    "logreg_pred = logreg.predict(X_test)\n",
    "\n",
    "logreg_pred2 = logreg.predict_proba(X_test)[:,1]"
   ]
  },
  {
   "cell_type": "markdown",
   "metadata": {},
   "source": [
    "Calculate accuracy for predicted classes."
   ]
  },
  {
   "cell_type": "code",
   "execution_count": 54,
   "metadata": {
    "collapsed": true
   },
   "outputs": [
    {
     "name": "stdout",
     "output_type": "stream",
     "text": [
      "AUC:\n",
      "0.7781260227624794\n"
     ]
    }
   ],
   "source": [
    "fpr, tpr, thresholds = roc_curve(Y_test, logreg_pred, pos_label=1)\n",
    "print('AUC:')\n",
    "print(auc(fpr, tpr))"
   ]
  },
  {
   "cell_type": "markdown",
   "metadata": {},
   "source": [
    "Calculate accuracy for predicted probabilities."
   ]
  },
  {
   "cell_type": "code",
   "execution_count": 55,
   "metadata": {
    "collapsed": true
   },
   "outputs": [
    {
     "name": "stdout",
     "output_type": "stream",
     "text": [
      "AUC:\n",
      "0.8582668214033871\n"
     ]
    }
   ],
   "source": [
    "fpr, tpr, thresholds = roc_curve(Y_test, logreg_pred2, pos_label=1)\n",
    "print('AUC:')\n",
    "print(auc(fpr, tpr))"
   ]
  },
  {
   "cell_type": "markdown",
   "metadata": {},
   "source": [
    "Submission format:"
   ]
  },
  {
   "cell_type": "code",
   "execution_count": 51,
   "metadata": {
    "collapsed": true
   },
   "outputs": [
    {
     "name": "stderr",
     "output_type": "stream",
     "text": [
      "/anaconda3/lib/python3.6/site-packages/ipykernel_launcher.py:5: SettingWithCopyWarning: \n",
      "A value is trying to be set on a copy of a slice from a DataFrame.\n",
      "Try using .loc[row_indexer,col_indexer] = value instead\n",
      "\n",
      "See the caveats in the documentation: http://pandas.pydata.org/pandas-docs/stable/indexing.html#indexing-view-versus-copy\n",
      "  \"\"\"\n"
     ]
    }
   ],
   "source": [
    "logreg_test_pred = logreg.predict_proba(test_input)[:,1]\n",
    "\n",
    "\n",
    "submit = test[['ID_code']]\n",
    "submit['target'] = logreg_test_pred\n",
    "\n",
    "submit.head()\n",
    "\n",
    "submit.to_csv('logreg.csv', index=False)"
   ]
  },
  {
   "cell_type": "markdown",
   "metadata": {},
   "source": [
    "# Decision Tree"
   ]
  },
  {
   "cell_type": "code",
   "execution_count": 56,
   "metadata": {
    "collapsed": true
   },
   "outputs": [
    {
     "name": "stdout",
     "output_type": "stream",
     "text": [
      "AUC:\n",
      "0.5353729100184983\n"
     ]
    }
   ],
   "source": [
    "from sklearn.tree import DecisionTreeClassifier\n",
    "\n",
    "dtc = DecisionTreeClassifier(class_weight='balanced')\n",
    "\n",
    "dtc.fit(X_train, Y_train)\n",
    "\n",
    "dtc_pred = dtc.predict_proba(X_test)[:,1]\n",
    "\n",
    "fpr, tpr, thresholds = roc_curve(Y_test, dtc_pred, pos_label=1)\n",
    "print('AUC:')\n",
    "print(auc(fpr, tpr))"
   ]
  },
  {
   "cell_type": "markdown",
   "metadata": {},
   "source": [
    "# LGBM"
   ]
  },
  {
   "cell_type": "code",
   "execution_count": 18,
   "metadata": {},
   "outputs": [
    {
     "name": "stdout",
     "output_type": "stream",
     "text": [
      "[1]\tvalid_0's auc: 0.566354\n",
      "[2]\tvalid_0's auc: 0.615919\n",
      "[3]\tvalid_0's auc: 0.648804\n",
      "[4]\tvalid_0's auc: 0.669663\n",
      "[5]\tvalid_0's auc: 0.672095\n",
      "[6]\tvalid_0's auc: 0.684419\n",
      "[7]\tvalid_0's auc: 0.70154\n",
      "[8]\tvalid_0's auc: 0.704246\n",
      "[9]\tvalid_0's auc: 0.706915\n",
      "[10]\tvalid_0's auc: 0.707846\n",
      "[11]\tvalid_0's auc: 0.717052\n",
      "[12]\tvalid_0's auc: 0.720023\n",
      "[13]\tvalid_0's auc: 0.729281\n",
      "[14]\tvalid_0's auc: 0.733461\n",
      "[15]\tvalid_0's auc: 0.742749\n",
      "[16]\tvalid_0's auc: 0.751069\n",
      "[17]\tvalid_0's auc: 0.755887\n",
      "[18]\tvalid_0's auc: 0.761148\n",
      "[19]\tvalid_0's auc: 0.763096\n",
      "[20]\tvalid_0's auc: 0.76089\n",
      "[21]\tvalid_0's auc: 0.759461\n",
      "[22]\tvalid_0's auc: 0.768696\n",
      "[23]\tvalid_0's auc: 0.771542\n",
      "[24]\tvalid_0's auc: 0.771696\n",
      "[25]\tvalid_0's auc: 0.775956\n",
      "[26]\tvalid_0's auc: 0.777587\n",
      "[27]\tvalid_0's auc: 0.776559\n",
      "[28]\tvalid_0's auc: 0.77467\n",
      "[29]\tvalid_0's auc: 0.775856\n",
      "[30]\tvalid_0's auc: 0.779549\n",
      "[31]\tvalid_0's auc: 0.780272\n",
      "[32]\tvalid_0's auc: 0.782844\n",
      "[33]\tvalid_0's auc: 0.785563\n",
      "[34]\tvalid_0's auc: 0.786245\n",
      "[35]\tvalid_0's auc: 0.791478\n",
      "[36]\tvalid_0's auc: 0.792545\n",
      "[37]\tvalid_0's auc: 0.794346\n",
      "[38]\tvalid_0's auc: 0.795211\n",
      "[39]\tvalid_0's auc: 0.797135\n",
      "[40]\tvalid_0's auc: 0.794785\n",
      "[41]\tvalid_0's auc: 0.795311\n",
      "[42]\tvalid_0's auc: 0.796073\n",
      "[43]\tvalid_0's auc: 0.799296\n",
      "[44]\tvalid_0's auc: 0.800974\n",
      "[45]\tvalid_0's auc: 0.804325\n",
      "[46]\tvalid_0's auc: 0.8045\n",
      "[47]\tvalid_0's auc: 0.806697\n",
      "[48]\tvalid_0's auc: 0.807433\n",
      "[49]\tvalid_0's auc: 0.808016\n",
      "[50]\tvalid_0's auc: 0.810518\n",
      "[51]\tvalid_0's auc: 0.812635\n",
      "[52]\tvalid_0's auc: 0.814907\n",
      "[53]\tvalid_0's auc: 0.816661\n",
      "[54]\tvalid_0's auc: 0.819023\n",
      "[55]\tvalid_0's auc: 0.820805\n",
      "[56]\tvalid_0's auc: 0.823053\n",
      "[57]\tvalid_0's auc: 0.823248\n",
      "[58]\tvalid_0's auc: 0.822851\n",
      "[59]\tvalid_0's auc: 0.824494\n",
      "[60]\tvalid_0's auc: 0.824387\n",
      "[61]\tvalid_0's auc: 0.826557\n",
      "[62]\tvalid_0's auc: 0.827004\n",
      "[63]\tvalid_0's auc: 0.825959\n",
      "[64]\tvalid_0's auc: 0.828078\n",
      "[65]\tvalid_0's auc: 0.829165\n",
      "[66]\tvalid_0's auc: 0.831056\n",
      "[67]\tvalid_0's auc: 0.83132\n",
      "[68]\tvalid_0's auc: 0.831588\n",
      "[69]\tvalid_0's auc: 0.833087\n",
      "[70]\tvalid_0's auc: 0.833343\n",
      "[71]\tvalid_0's auc: 0.833823\n",
      "[72]\tvalid_0's auc: 0.834931\n",
      "[73]\tvalid_0's auc: 0.835427\n",
      "[74]\tvalid_0's auc: 0.836903\n",
      "[75]\tvalid_0's auc: 0.837282\n",
      "[76]\tvalid_0's auc: 0.837734\n",
      "[77]\tvalid_0's auc: 0.83842\n",
      "[78]\tvalid_0's auc: 0.838733\n",
      "[79]\tvalid_0's auc: 0.838697\n",
      "[80]\tvalid_0's auc: 0.840477\n",
      "[81]\tvalid_0's auc: 0.840635\n",
      "[82]\tvalid_0's auc: 0.842136\n",
      "[83]\tvalid_0's auc: 0.841845\n",
      "[84]\tvalid_0's auc: 0.842003\n",
      "[85]\tvalid_0's auc: 0.842363\n",
      "[86]\tvalid_0's auc: 0.843912\n",
      "[87]\tvalid_0's auc: 0.843388\n",
      "[88]\tvalid_0's auc: 0.844678\n",
      "[89]\tvalid_0's auc: 0.845762\n",
      "[90]\tvalid_0's auc: 0.846188\n",
      "[91]\tvalid_0's auc: 0.846117\n",
      "[92]\tvalid_0's auc: 0.846735\n",
      "[93]\tvalid_0's auc: 0.847466\n",
      "[94]\tvalid_0's auc: 0.847987\n",
      "[95]\tvalid_0's auc: 0.848358\n",
      "[96]\tvalid_0's auc: 0.849271\n",
      "[97]\tvalid_0's auc: 0.849725\n",
      "[98]\tvalid_0's auc: 0.849012\n",
      "[99]\tvalid_0's auc: 0.848918\n",
      "[100]\tvalid_0's auc: 0.849169\n"
     ]
    },
    {
     "data": {
      "text/plain": [
       "<lightgbm.basic.Booster at 0x1a17045748>"
      ]
     },
     "execution_count": 18,
     "metadata": {},
     "output_type": "execute_result"
    }
   ],
   "source": [
    "import lightgbm as lgb\n",
    "\n",
    "'''params = {\n",
    "           \"metric\" : \"auc\", \n",
    "           \"objective\" : \"binary\", \n",
    "           \"class_weight\" : \"balanced\", \n",
    "           \"n_estimators\" : 2000,\n",
    "           \"max_depth\" : 15,\n",
    "           \"learning_rate\" : 0.06,\n",
    "           \"num_leaves\" : 100,\n",
    "           \"min_child_samples\" : 100,\n",
    "           \"reg_alpha\" : 1.728,\n",
    "           \"reg_lambda\" : 4.98}\n",
    "'''\n",
    "params = {\n",
    "    'bagging_freq': 5,\n",
    "    'bagging_fraction': 0.335,\n",
    "    'boost_from_average':'false',\n",
    "    'boost': 'gbdt',\n",
    "    'feature_fraction': 0.041,\n",
    "    'learning_rate': 0.0083,\n",
    "    'max_depth': -1,\n",
    "    'metric':'auc',\n",
    "    'min_data_in_leaf': 80,\n",
    "    'min_sum_hessian_in_leaf': 10.0,\n",
    "    'num_leaves': 13,\n",
    "    'num_threads': 8,\n",
    "    'tree_learner': 'serial',\n",
    "    'objective': 'binary', \n",
    "    'verbosity': -1\n",
    "}\n",
    "lgtrain = lgb.Dataset(X_train, Y_train)\n",
    "lgval = lgb.Dataset(X_test, Y_test)\n",
    "\n",
    "model = lgb.train(params, lgtrain, valid_sets=[lgval])\n",
    "model"
   ]
  },
  {
   "cell_type": "code",
   "execution_count": null,
   "metadata": {},
   "outputs": [],
   "source": [
    "#model = lgb_model.fit(X_train, Y_train, eval_metric='auc',\n",
    "#                  eval_set=[(X_test, Y_test)])\n",
    "\n",
    "lgb_test_pred = model.predict(test_input, num_iteration=model.best_iteration)\n",
    "\n",
    "#print('AUC: {}'.format(metrics.roc_auc_score(pred_classes, testing_classes)))"
   ]
  },
  {
   "cell_type": "markdown",
   "metadata": {},
   "source": [
    "Submission format:"
   ]
  },
  {
   "cell_type": "code",
   "execution_count": 12,
   "metadata": {},
   "outputs": [
    {
     "name": "stderr",
     "output_type": "stream",
     "text": [
      "/anaconda3/lib/python3.6/site-packages/ipykernel_launcher.py:2: SettingWithCopyWarning: \n",
      "A value is trying to be set on a copy of a slice from a DataFrame.\n",
      "Try using .loc[row_indexer,col_indexer] = value instead\n",
      "\n",
      "See the caveats in the documentation: http://pandas.pydata.org/pandas-docs/stable/indexing.html#indexing-view-versus-copy\n",
      "  \n"
     ]
    },
    {
     "data": {
      "text/html": [
       "<div>\n",
       "<style scoped>\n",
       "    .dataframe tbody tr th:only-of-type {\n",
       "        vertical-align: middle;\n",
       "    }\n",
       "\n",
       "    .dataframe tbody tr th {\n",
       "        vertical-align: top;\n",
       "    }\n",
       "\n",
       "    .dataframe thead th {\n",
       "        text-align: right;\n",
       "    }\n",
       "</style>\n",
       "<table border=\"1\" class=\"dataframe\">\n",
       "  <thead>\n",
       "    <tr style=\"text-align: right;\">\n",
       "      <th></th>\n",
       "      <th>ID_code</th>\n",
       "      <th>target</th>\n",
       "    </tr>\n",
       "  </thead>\n",
       "  <tbody>\n",
       "    <tr>\n",
       "      <th>0</th>\n",
       "      <td>test_0</td>\n",
       "      <td>0.107390</td>\n",
       "    </tr>\n",
       "    <tr>\n",
       "      <th>1</th>\n",
       "      <td>test_1</td>\n",
       "      <td>0.079930</td>\n",
       "    </tr>\n",
       "    <tr>\n",
       "      <th>2</th>\n",
       "      <td>test_2</td>\n",
       "      <td>0.151206</td>\n",
       "    </tr>\n",
       "    <tr>\n",
       "      <th>3</th>\n",
       "      <td>test_3</td>\n",
       "      <td>0.140575</td>\n",
       "    </tr>\n",
       "    <tr>\n",
       "      <th>4</th>\n",
       "      <td>test_4</td>\n",
       "      <td>0.020527</td>\n",
       "    </tr>\n",
       "  </tbody>\n",
       "</table>\n",
       "</div>"
      ],
      "text/plain": [
       "  ID_code    target\n",
       "0  test_0  0.107390\n",
       "1  test_1  0.079930\n",
       "2  test_2  0.151206\n",
       "3  test_3  0.140575\n",
       "4  test_4  0.020527"
      ]
     },
     "execution_count": 12,
     "metadata": {},
     "output_type": "execute_result"
    }
   ],
   "source": [
    "submitLGB = test[['ID_code']]\n",
    "submitLGB[\"target\"] = lgb_test_pred\n",
    "\n",
    "submitLGB.to_csv('LGBM.csv', index = False)\n",
    "\n",
    "submitLGB.head()"
   ]
  },
  {
   "cell_type": "code",
   "execution_count": null,
   "metadata": {
    "collapsed": true
   },
   "outputs": [],
   "source": []
  }
 ],
 "metadata": {
  "kernelspec": {
   "display_name": "Python 3",
   "language": "python",
   "name": "python3"
  },
  "language_info": {
   "codemirror_mode": {
    "name": "ipython",
    "version": 3
   },
   "file_extension": ".py",
   "mimetype": "text/x-python",
   "name": "python",
   "nbconvert_exporter": "python",
   "pygments_lexer": "ipython3",
   "version": "3.6.8"
  }
 },
 "nbformat": 4,
 "nbformat_minor": 2
}
